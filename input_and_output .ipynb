{
 "cells": [
  {
   "cell_type": "code",
   "execution_count": 8,
   "id": "541bc1cd-c1ef-446b-be85-8f749a731f06",
   "metadata": {},
   "outputs": [
    {
     "name": "stdin",
     "output_type": "stream",
     "text": [
      "enter your name sai vikas\n",
      "Enter college name: sru\n",
      "enter the subject: python\n",
      "enter your age 20\n"
     ]
    },
    {
     "name": "stdout",
     "output_type": "stream",
     "text": [
      "name: sai vikas\n",
      "college name: sru\n",
      "subject: python\n",
      "Age: 20\n"
     ]
    }
   ],
   "source": [
    "#input\n",
    "x=input(\"enter your name\")\n",
    "cname=input(\"Enter college name:\")\n",
    "sub=input(\"enter the subject:\")\n",
    "age=int(input(\"enter your age\"))\n",
    "\n",
    "#output\n",
    "print(\"name:\",x)\n",
    "print(\"college name:\",cname)\n",
    "print(\"subject:\",sub)\n",
    "print(\"Age:\",age)"
   ]
  },
  {
   "cell_type": "code",
   "execution_count": 9,
   "id": "602761fe-0bc6-4b59-b25d-6883aa5f0019",
   "metadata": {},
   "outputs": [
    {
     "name": "stdout",
     "output_type": "stream",
     "text": [
      "False\n"
     ]
    }
   ],
   "source": [
    "a,b,c,d=25,10,50,99\n",
    "print(a is b)"
   ]
  },
  {
   "cell_type": "code",
   "execution_count": 12,
   "id": "11d724e3-7447-424b-a61e-fc6487ead578",
   "metadata": {},
   "outputs": [
    {
     "name": "stdout",
     "output_type": "stream",
     "text": [
      "True\n",
      "True\n"
     ]
    }
   ],
   "source": [
    "a=b\n",
    "print(a is b)\n",
    "print(b is a)"
   ]
  },
  {
   "cell_type": "code",
   "execution_count": 16,
   "id": "dd03a547-6443-45f1-9cf3-03c775e738b7",
   "metadata": {},
   "outputs": [
    {
     "name": "stdout",
     "output_type": "stream",
     "text": [
      "True\n",
      "False\n",
      "True\n",
      "10 10 10 99\n"
     ]
    }
   ],
   "source": [
    "c=10\n",
    "print(a is c)\n",
    "print(a is not c)\n",
    "print(a is a)\n",
    "\n",
    "\n",
    "print(a,b,c,d)"
   ]
  },
  {
   "cell_type": "code",
   "execution_count": 26,
   "id": "f474a0ea-8a5f-46e0-8946-524b23c2983b",
   "metadata": {},
   "outputs": [
    {
     "name": "stdout",
     "output_type": "stream",
     "text": [
      "fail\n"
     ]
    }
   ],
   "source": [
    "#condional statements\n",
    "x=40\n",
    "y=25\n",
    "z=55\n",
    "if (z>=35 and y>=35 and x>=35):\n",
    "    print(\"pass\")\n",
    "else: \n",
    "    print (\"fail\")"
   ]
  },
  {
   "cell_type": "code",
   "execution_count": 39,
   "id": "5829c860-f71c-4048-91d0-b2aca8e7155a",
   "metadata": {},
   "outputs": [
    {
     "name": "stdin",
     "output_type": "stream",
     "text": [
      "enter the number : 655\n"
     ]
    }
   ],
   "source": [
    "num=int(input(\"enter the number :\"))\n",
    "if num>0:\n",
    "    if ((num%2)==0):\n",
    "        print(\"number is even and positive\")\n",
    "else :\n",
    "    print(\"number is negative\")\n",
    "        "
   ]
  },
  {
   "cell_type": "code",
   "execution_count": 49,
   "id": "519705e0-8f5f-4a1e-aae4-37a94d05e7f4",
   "metadata": {},
   "outputs": [
    {
     "name": "stdin",
     "output_type": "stream",
     "text": [
      "enter your age : 10\n"
     ]
    },
    {
     "name": "stdout",
     "output_type": "stream",
     "text": [
      "you can not vote \n"
     ]
    }
   ],
   "source": [
    "age=int(input(\"enter your age :\"))\n",
    "if (age>=18):\n",
    "    print(\"you can vote\")\n",
    "else:\n",
    "    print(\"you can not vote \")"
   ]
  },
  {
   "cell_type": "code",
   "execution_count": 63,
   "id": "a38d6812-69ae-49f3-8778-e6beb637827b",
   "metadata": {},
   "outputs": [
    {
     "name": "stdin",
     "output_type": "stream",
     "text": [
      "enter your marks 121\n"
     ]
    },
    {
     "name": "stdout",
     "output_type": "stream",
     "text": [
      "F grade\n"
     ]
    }
   ],
   "source": [
    "marks=int(input(\"enter your marks\"))\n",
    "if 100>=marks>=70:\n",
    "    print(\"A+ GRADE\")\n",
    "elif 70>=marks>=60:\n",
    "    print(\"A GRADE\")\n",
    "elif 60>=marks>=50:\n",
    "    print(\"B grade\")\n",
    "elif 50>=marks>=35:\n",
    "    print(\"C grade\")\n",
    "else :\n",
    "    print(\"F grade\")"
   ]
  },
  {
   "cell_type": "code",
   "execution_count": 80,
   "id": "b54c2cef-00b4-41cb-be16-33469892af63",
   "metadata": {},
   "outputs": [
    {
     "name": "stdin",
     "output_type": "stream",
     "text": [
      "enter the year of car brought 2021\n",
      "enter the KMS Driven 10000\n",
      "IF DENTS ENTER THE NO OF DENTS ,IF THERE IS NO DENTS ENTER 0 2\n",
      "if any accidents happend enter 1,if there are accidents enter 0 0\n",
      "enter the car price 1000000\n"
     ]
    },
    {
     "name": "stdout",
     "output_type": "stream",
     "text": [
      "806000.0\n"
     ]
    }
   ],
   "source": [
    "int_year = int(input(\"Enter the year the car was bought: \"))\n",
    "km = int(input(\"Enter the KMS Driven: \"))\n",
    "dents = int(input(\"If there are dents, enter the number of dents; if no dents, enter 0: \"))\n",
    "AC = int(input(\"If any accidents happened, enter 1; if no accidents, enter 0: \"))\n",
    "value = int(input(\"Enter the car price: \"))\n",
    "\n",
    "f = value - ((2024 - int_year) * 0.06 * value) - ((km / 10000) * 0.01 * value) - (dents * 0.002 * value) - (AC * 0.20 * value)\n",
    "print(f\"Final car value: {f}\")\n"
   ]
  },
  {
   "cell_type": "code",
   "execution_count": null,
   "id": "b49fdb41-fc3a-4e23-b5cd-283cad77e975",
   "metadata": {},
   "outputs": [],
   "source": []
  }
 ],
 "metadata": {
  "kernelspec": {
   "display_name": "Python 3 (ipykernel)",
   "language": "python",
   "name": "python3"
  },
  "language_info": {
   "codemirror_mode": {
    "name": "ipython",
    "version": 3
   },
   "file_extension": ".py",
   "mimetype": "text/x-python",
   "name": "python",
   "nbconvert_exporter": "python",
   "pygments_lexer": "ipython3",
   "version": "3.13.1"
  }
 },
 "nbformat": 4,
 "nbformat_minor": 5
}
